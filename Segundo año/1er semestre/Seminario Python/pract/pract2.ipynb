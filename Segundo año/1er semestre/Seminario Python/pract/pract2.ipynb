{
 "cells": [
  {
   "cell_type": "markdown",
   "metadata": {},
   "source": [
    "ejercicio1"
   ]
  },
  {
   "cell_type": "code",
   "execution_count": 48,
   "metadata": {},
   "outputs": [
    {
     "name": "stdout",
     "output_type": "stream",
     "text": [
      "[('community', 3)]\n"
     ]
    }
   ],
   "source": [
    "\n",
    "\n",
    "def tieneVocal(numpy):\n",
    "    for linea in numpy:\n",
    "        aux=linea.split(\" \")\n",
    "        if len(aux)>=2:\n",
    "            if aux[1][0] in vocal:\n",
    "                print(aux)\n",
    "\n",
    "\n",
    "\n",
    "numpy=\"\"\"<h1 align=\"center\">\n",
    "<img src=\"https://raw.githubusercontent.com/numpy/numpy/main/branding/logo/primary/numpylogo.svg\" width=\"300\">\n",
    "</h1><br>\n",
    "\n",
    "\n",
    "[![Powered by NumFOCUS](https://img.shields.io/badge/powered%20by-NumFOCUS-orange.svg?style=flat&colorA=E1523D&colorB=007D8A)](\n",
    "https://numfocus.org)\n",
    "[![PyPI Downloads](https://img.shields.io/pypi/dm/numpy.svg?label=PyPI%20downloads)](\n",
    "https://pypi.org/project/numpy/)\n",
    "[![Conda Downloads](https://img.shields.io/conda/dn/conda-forge/numpy.svg?label=Conda%20downloads)](\n",
    "https://anaconda.org/conda-forge/numpy)\n",
    "[![Stack Overflow](https://img.shields.io/badge/stackoverflow-Ask%20questions-blue.svg)](\n",
    "https://stackoverflow.com/questions/tagged/numpy)\n",
    "[![Nature Paper](https://img.shields.io/badge/DOI-10.1038%2Fs41586--020--2649--2-blue)](\n",
    "https://doi.org/10.1038/s41586-020-2649-2)\n",
    "[![OpenSSF Scorecard](https://api.securityscorecards.dev/projects/github.com/numpy/numpy/badge)](https://securityscorecards.dev/viewer/?uri=github.com/numpy/numpy)\n",
    "\n",
    "\n",
    "NumPy is the fundamental package for scientific computing with Python.\n",
    "\n",
    "- **Website:** https://www.numpy.org\n",
    "- **Documentation:** https://numpy.org/doc\n",
    "- **Mailing list:** https://mail.python.org/mailman/listinfo/numpy-discussion\n",
    "- **Source code:** https://github.com/numpy/numpy\n",
    "- **Contributing:** https://www.numpy.org/devdocs/dev/index.html\n",
    "- **Bug reports:** https://github.com/numpy/numpy/issues\n",
    "- **Report a security vulnerability:** https://tidelift.com/docs/security\n",
    "\n",
    "It provides:\n",
    "\n",
    "- a powerful N-dimensional array object\n",
    "- sophisticated (broadcasting) functions\n",
    "- tools for integrating C/C++ and Fortran code\n",
    "- useful linear algebra, Fourier transform, and random number capabilities\n",
    "\n",
    "Testing:\n",
    "\n",
    "NumPy requires `pytest` and `hypothesis`.  Tests can then be run after installation with:\n",
    "\n",
    "python -c \"import numpy, sys; sys.exit(numpy.test() is False)\"\n",
    "\n",
    "Code of Conduct\n",
    "----------------------\n",
    "\n",
    "NumPy is a community-driven open source project developed by a diverse group of\n",
    "[contributors](https://numpy.org/teams/). The NumPy leadership has made a strong\n",
    "commitment to creating an open, inclusive, and positive community. Please read the\n",
    "[NumPy Code of Conduct](https://numpy.org/code-of-conduct/) for guidance on how to interact\n",
    "with others in a way that makes our community thrive.\n",
    "\n",
    "Call for Contributions\n",
    "----------------------\n",
    "\n",
    "The NumPy project welcomes your expertise and enthusiasm!\n",
    "\n",
    "Small improvements or fixes are always appreciated. If you are considering larger contributions\n",
    "to the source code, please contact us through the [mailing\n",
    "list](https://mail.python.org/mailman/listinfo/numpy-discussion) first.\n",
    "\n",
    "Writing code isn’t the only way to contribute to NumPy. You can also:\n",
    "- review pull requests\n",
    "- help us stay on top of new and old issues\n",
    "- develop tutorials, presentations, and other educational materials\n",
    "- maintain and improve [our website](https://github.com/numpy/numpy.org)\n",
    "- develop graphic design for our brand assets and promotional materials\n",
    "- translate website content\n",
    "- help with outreach and onboard new contributors\n",
    "- write grant proposals and help with other fundraising efforts\n",
    "\n",
    "For more information about the ways you can contribute to NumPy, visit [our website](https://numpy.org/contribute/). \n",
    "If you’re unsure where to start or how your skills fit in, reach out! You can\n",
    "ask on the mailing list or here, on GitHub, by opening a new issue or leaving a\n",
    "comment on a relevant issue that is already open.\n",
    "\n",
    "Our preferred channels of communication are all public, but if you’d like to\n",
    "speak to us in private first, contact our community coordinators at\n",
    "numpy-team@googlegroups.com or on Slack (write numpy-team@googlegroups.com for\n",
    "an invitation).\n",
    "\n",
    "We also have a biweekly community call, details of which are announced on the\n",
    "mailing list. You are very welcome to join.\n",
    "\n",
    "If you are new to contributing to open source, [this\n",
    "guide](https://opensource.guide/how-to-contribute/) helps explain why, what,\n",
    "and how to successfully get involved.\"\"\"\n",
    "\n",
    "\n",
    "\n",
    "numpy=numpy.split(\"\\n\")\n",
    "vocal= (\"A\", \"E\", \"I\", \"O\", \"U\", \"a\", \"e\", \"i\", \"o\", \"u\",)\n",
    "\n",
    "tieneVocal(numpy)\n",
    "\n",
    "\n",
    "\n"
   ]
  },
  {
   "cell_type": "markdown",
   "metadata": {},
   "source": [
    "ejercicio 2"
   ]
  },
  {
   "cell_type": "code",
   "execution_count": 49,
   "metadata": {},
   "outputs": [
    {
     "name": "stdout",
     "output_type": "stream",
     "text": [
      "[('community', 3)]\n"
     ]
    }
   ],
   "source": [
    "from collections import Counter\n",
    "\n",
    "def masDeCuatro(texto):\n",
    "    aux=[]\n",
    "    for word in texto:\n",
    "        if len(word)>4:\n",
    "            aux.append(word)\n",
    "\n",
    "    resultado= Counter(aux)\n",
    "    print(resultado.most_common(1))\n",
    "\n",
    "texto=\"\"\"<h1 align=\"center\">\n",
    "<img src=\"https://raw.githubusercontent.com/numpy/numpy/main/branding/logo/primary/numpylogo.svg\" width=\"300\">\n",
    "</h1><br>\n",
    "\n",
    "\n",
    "[![Powered by NumFOCUS](https://img.shields.io/badge/powered%20by-NumFOCUS-orange.svg?style=flat&colorA=E1523D&colorB=007D8A)](\n",
    "https://numfocus.org)\n",
    "[![PyPI Downloads](https://img.shields.io/pypi/dm/numpy.svg?label=PyPI%20downloads)](\n",
    "https://pypi.org/project/numpy/)\n",
    "[![Conda Downloads](https://img.shields.io/conda/dn/conda-forge/numpy.svg?label=Conda%20downloads)](\n",
    "https://anaconda.org/conda-forge/numpy)\n",
    "[![Stack Overflow](https://img.shields.io/badge/stackoverflow-Ask%20questions-blue.svg)](\n",
    "https://stackoverflow.com/questions/tagged/numpy)\n",
    "[![Nature Paper](https://img.shields.io/badge/DOI-10.1038%2Fs41586--020--2649--2-blue)](\n",
    "https://doi.org/10.1038/s41586-020-2649-2)\n",
    "[![OpenSSF Scorecard](https://api.securityscorecards.dev/projects/github.com/numpy/numpy/badge)](https://securityscorecards.dev/viewer/?uri=github.com/numpy/numpy)\n",
    "\n",
    "\n",
    "NumPy is the fundamental package for scientific computing with Python.\n",
    "\n",
    "- **Website:** https://www.numpy.org\n",
    "- **Documentation:** https://numpy.org/doc\n",
    "- **Mailing list:** https://mail.python.org/mailman/listinfo/numpy-discussion\n",
    "- **Source code:** https://github.com/numpy/numpy\n",
    "- **Contributing:** https://www.numpy.org/devdocs/dev/index.html\n",
    "- **Bug reports:** https://github.com/numpy/numpy/issues\n",
    "- **Report a security vulnerability:** https://tidelift.com/docs/security\n",
    "\n",
    "It provides:\n",
    "\n",
    "- a powerful N-dimensional array object\n",
    "- sophisticated (broadcasting) functions\n",
    "- tools for integrating C/C++ and Fortran code\n",
    "- useful linear algebra, Fourier transform, and random number capabilities\n",
    "\n",
    "Testing:\n",
    "\n",
    "NumPy requires `pytest` and `hypothesis`.  Tests can then be run after installation with:\n",
    "\n",
    "python -c \"import numpy, sys; sys.exit(numpy.test() is False)\"\n",
    "\n",
    "Code of Conduct\n",
    "----------------------\n",
    "\n",
    "NumPy is a community-driven open source project developed by a diverse group of\n",
    "[contributors](https://numpy.org/teams/). The NumPy leadership has made a strong\n",
    "commitment to creating an open, inclusive, and positive community. Please read the\n",
    "[NumPy Code of Conduct](https://numpy.org/code-of-conduct/) for guidance on how to interact\n",
    "with others in a way that makes our community thrive.\n",
    "\n",
    "Call for Contributions\n",
    "----------------------\n",
    "\n",
    "The NumPy project welcomes your expertise and enthusiasm!\n",
    "\n",
    "Small improvements or fixes are always appreciated. If you are considering larger contributions\n",
    "to the source code, please contact us through the [mailing\n",
    "list](https://mail.python.org/mailman/listinfo/numpy-discussion) first.\n",
    "\n",
    "Writing code isn’t the only way to contribute to NumPy. You can also:\n",
    "- review pull requests\n",
    "- help us stay on top of new and old issues\n",
    "- develop tutorials, presentations, and other educational materials\n",
    "- maintain and improve [our website](https://github.com/numpy/numpy.org)\n",
    "- develop graphic design for our brand assets and promotional materials\n",
    "- translate website content\n",
    "- help with outreach and onboard new contributors\n",
    "- write grant proposals and help with other fundraising efforts\n",
    "\n",
    "For more information about the ways you can contribute to NumPy, visit [our website](https://numpy.org/contribute/). \n",
    "If you’re unsure where to start or how your skills fit in, reach out! You can\n",
    "ask on the mailing list or here, on GitHub, by opening a new issue or leaving a\n",
    "comment on a relevant issue that is already open.\n",
    "\n",
    "Our preferred channels of communication are all public, but if you’d like to\n",
    "speak to us in private first, contact our community coordinators at\n",
    "numpy-team@googlegroups.com or on Slack (write numpy-team@googlegroups.com for\n",
    "an invitation).\n",
    "\n",
    "We also have a biweekly community call, details of which are announced on the\n",
    "mailing list. You are very welcome to join.\n",
    "\n",
    "If you are new to contributing to open source, [this\n",
    "guide](https://opensource.guide/how-to-contribute/) helps explain why, what,\n",
    "and how to successfully get involved.\"\"\"\n",
    "\n",
    "\n",
    "texto=texto.split(\" \")\n",
    "masDeCuatro(texto)"
   ]
  },
  {
   "cell_type": "markdown",
   "metadata": {},
   "source": [
    "ejercicio 3"
   ]
  },
  {
   "cell_type": "code",
   "execution_count": 35,
   "metadata": {},
   "outputs": [
    {
     "name": "stdout",
     "output_type": "stream",
     "text": [
      "ingrese una letra\n",
      "error, ingrese una letra\n",
      "None\n"
     ]
    },
    {
     "ename": "TypeError",
     "evalue": "'in <string>' requires string as left operand, not NoneType",
     "output_type": "error",
     "traceback": [
      "\u001b[1;31m---------------------------------------------------------------------------\u001b[0m",
      "\u001b[1;31mTypeError\u001b[0m                                 Traceback (most recent call last)",
      "Cell \u001b[1;32mIn[35], line 31\u001b[0m\n\u001b[0;32m     29\u001b[0m letra\u001b[38;5;241m=\u001b[39msolicitarLetra(letra)\n\u001b[0;32m     30\u001b[0m \u001b[38;5;28mprint\u001b[39m(letra)\n\u001b[1;32m---> 31\u001b[0m \u001b[43mimprimirCoincidencias\u001b[49m\u001b[43m(\u001b[49m\u001b[43m)\u001b[49m\n",
      "Cell \u001b[1;32mIn[35], line 17\u001b[0m, in \u001b[0;36mimprimirCoincidencias\u001b[1;34m()\u001b[0m\n\u001b[0;32m     15\u001b[0m \u001b[38;5;28;01mdef\u001b[39;00m \u001b[38;5;21mimprimirCoincidencias\u001b[39m():\n\u001b[0;32m     16\u001b[0m     \u001b[38;5;28;01mfor\u001b[39;00m palabra \u001b[38;5;129;01min\u001b[39;00m jupyter_info:\n\u001b[1;32m---> 17\u001b[0m         \u001b[38;5;28;01mif\u001b[39;00m \u001b[43mletra\u001b[49m\u001b[43m \u001b[49m\u001b[38;5;129;43;01min\u001b[39;49;00m\u001b[43m \u001b[49m\u001b[43mpalabra\u001b[49m:\n\u001b[0;32m     18\u001b[0m             \u001b[38;5;28mprint\u001b[39m(palabra)\n",
      "\u001b[1;31mTypeError\u001b[0m: 'in <string>' requires string as left operand, not NoneType"
     ]
    }
   ],
   "source": [
    "import string\n",
    "\n",
    "def solicitarLetra(letra):\n",
    "    print(\"ingrese una letra\")\n",
    "    letra=input()\n",
    "    if len(letra)==1 :\n",
    "        if letra in letters:\n",
    "            print(\"sexxx\")\n",
    "            return letra\n",
    "        else:\n",
    "            print(\"nao nao\")\n",
    "    else:\n",
    "        print(\"error, ingrese una letra\")\n",
    "\n",
    "def imprimirCoincidencias():\n",
    "    for palabra in jupyter_info:\n",
    "        if letra in palabra:\n",
    "            print(palabra)\n",
    "\n",
    "letters = string.ascii_letters\n",
    "jupyter_info = \"\"\" JupyterLab is a web-based interactive development\n",
    "environment for Jupyter notebooks, code, and data. JupyterLab is\n",
    "flexible: configure and arrange the user interface to support a wide\n",
    "range of workflows in data science, scientific computing, and machine\n",
    "learning. JupyterLab is extensible and modular: write plugins that add\n",
    "new components and integrate with existing ones. \"\"\"\n",
    "jupyter_info=jupyter_info.split(\" \")\n",
    "\n",
    "letra=solicitarLetra(letra)\n",
    "print(letra)\n",
    "imprimirCoincidencias()\n"
   ]
  },
  {
   "cell_type": "markdown",
   "metadata": {},
   "source": [
    "ejercicio 4"
   ]
  },
  {
   "cell_type": "code",
   "execution_count": 41,
   "metadata": {},
   "outputs": [
    {
     "name": "stdout",
     "output_type": "stream",
     "text": [
      "Hay al menos una letra a y n.\n"
     ]
    }
   ],
   "source": [
    "word = input(\"Ingresá una palabra: \")\n",
    "if \"a\" in word and \"n\" in word:\n",
    "    print(\"Hay al menos una letra a y n.\")\n",
    "else:\n",
    "    print(\"No hay letras a. \")"
   ]
  },
  {
   "cell_type": "markdown",
   "metadata": {},
   "source": [
    "ejercicio 5"
   ]
  },
  {
   "cell_type": "code",
   "execution_count": 13,
   "metadata": {},
   "outputs": [
    {
     "name": "stdout",
     "output_type": "stream",
     "text": [
      "False\n",
      "['resumen: Distributed agent-based modeling (ABM) on high-performance\\ncomputing resources provides the promise of capturing unprecedented\\ndetails of large-scale complex systems', ' However, the specialized\\nknowledge required for developing such ABMs creates barriers to wider\\nadoption and utilization', ' Here we present our experiences in\\ndeveloping an initial implementation of Repast4Py, a Python-based\\ndistributed ABM toolkit', ' We build on our experiences in developing ABM\\ntoolkits, including Repast for High Performance Computing (Repast\\nHPC), to identify the key elements of a useful distributed ABM\\ntoolkit', ' We leverage the Numba, NumPy, and PyTorch packages and the\\nPython C-API to create a scalable modeling system that can exploit the\\nlargest HPC resources and emerging computing architectures', '']\n",
      "dificil de leer\n",
      "aceptable para leer\n",
      "aceptable para leer\n",
      "muy dificil de leer\n",
      "muy dificil de leer\n"
     ]
    }
   ],
   "source": [
    "def filtrarResumen():\n",
    "    oraciones=article.splitlines()\n",
    "    oraciones=oraciones[1:]\n",
    "    oraciones=\"\\n\".join(oraciones)\n",
    "    oraciones=oraciones.split(\".\")\n",
    "    return oraciones\n",
    "def dificulty():\n",
    "    oraciones=filtrarResumen()\n",
    "    print(oraciones)\n",
    "    for oracion in oraciones: \n",
    "        if len(oracion)== 0:\n",
    "            oraciones.remove(oracion)\n",
    "    for oracion in oraciones:\n",
    "        if(len(oracion.split())<=12):\n",
    "            print(\"facil de leer\")\n",
    "        elif(len(oracion.split())<=17):\n",
    "            print(\"aceptable para leer\")\n",
    "        elif(len(oracion.split())<=25):\n",
    "            print(\"dificil de leer\")\n",
    "        else:\n",
    "            print(\"muy dificil de leer\")\n",
    "\n",
    "def procesar():\n",
    "    titulo=article.splitlines()\n",
    "    titulo=titulo[0]\n",
    "    estado=False\n",
    "    if len(titulo)<=10:\n",
    "        estado=True\n",
    "    print(estado)\n",
    "    dificulty()\n",
    "\n",
    "article = \"\"\" título: Experiences in Developing a Distributed Agent￾based Modeling Toolkit with Python Version 3\n",
    "resumen: Distributed agent-based modeling (ABM) on high-performance\n",
    "computing resources provides the promise of capturing unprecedented\n",
    "details of large-scale complex systems. However, the specialized\n",
    "knowledge required for developing such ABMs creates barriers to wider\n",
    "adoption and utilization. Here we present our experiences in\n",
    "developing an initial implementation of Repast4Py, a Python-based\n",
    "distributed ABM toolkit. We build on our experiences in developing ABM\n",
    "toolkits, including Repast for High Performance Computing (Repast\n",
    "HPC), to identify the key elements of a useful distributed ABM\n",
    "toolkit. We leverage the Numba, NumPy, and PyTorch packages and the\n",
    "Python C-API to create a scalable modeling system that can exploit the\n",
    "largest HPC resources and emerging computing architectures.\"\"\"\n",
    "\n",
    "\n",
    "\n",
    "\n",
    "procesar()"
   ]
  },
  {
   "cell_type": "markdown",
   "metadata": {},
   "source": [
    "ejercicio 6\n"
   ]
  },
  {
   "cell_type": "code",
   "execution_count": 29,
   "metadata": {},
   "outputs": [
    {
     "name": "stdout",
     "output_type": "stream",
     "text": [
      "3\n"
     ]
    }
   ],
   "source": [
    "\n",
    "def contador():\n",
    "    aux=0\n",
    "    for i in palabras:\n",
    "        if (palabra==i):\n",
    "            aux=aux+1\n",
    "    print(aux)\n",
    "\n",
    "palabras=(input(\"ingrese una frase: \").lower().replace(\",\",\"\").replace(\".\",\"\")).split()\n",
    "palabra=input(\"ingrese una palabra\").lower()\n",
    "\n",
    "\n",
    "contador()\n"
   ]
  },
  {
   "cell_type": "markdown",
   "metadata": {},
   "source": [
    "ejercicio 10"
   ]
  },
  {
   "cell_type": "code",
   "execution_count": 44,
   "metadata": {},
   "outputs": [
    {
     "name": "stdout",
     "output_type": "stream",
     "text": [
      "{'Agustin': (0, 0, 0), 'Yanina': (10, 2, 5), 'Andrés': (4, 0, 1), 'Ariadna': (0, 0, 0), 'Bautista': (5, 5, 5), 'CAROLINA': (14, 2, 2), 'CESAR': (0, 0, 0), 'David': (0, 0, 0), 'Diego': (7, 1, 1), 'Dolores': (2, 2, 2), 'DYLAN': (1, 0, 1), 'ELIANA': (1, 5, 5), 'Emanuel': (1, 5, 5), 'Fabián': (5, 0, 0), 'Noelia': (6, 1, 1), \"Francsica'\": (1, 0, 0), 'FEDERICO': (1, 2, 2), 'Fernanda': (2, 3, 3), 'GONZALO': (0, 0, 1), 'Nancy': (11, 0, 0)}\n",
      "El goleador es CAROLINA  con  14  goles.\n",
      "('CAROLINA', 25.5)\n",
      "promedio de goles de equipo durante la temporada fue de 2.84\n",
      "promedio de goles del goleador CAROLINA durante la termporada fue de 0.56\n"
     ]
    }
   ],
   "source": [
    "\n",
    "def generarEstructura():\n",
    "    nombres= list(name.strip()for name in names.split(\",\"))\n",
    "    valores= list(zip(goals,goals_avoided,assists))\n",
    "    return dict(zip(nombres,valores))\n",
    "\n",
    "def goleadorEs(info):\n",
    "    claveMax = max(info, key=lambda x: info[x][0])\n",
    "    goles=info[claveMax][0]\n",
    "    print(\"El goleador es\", claveMax,\" con \",goles,\" goles.\")\n",
    "    return {claveMax:goles}\n",
    "\n",
    "def masInfluyente(info):\n",
    "    masInflu=[tuple([nombre,sum([dato[0]*1.5,dato[1]*1.25,dato[2]*1])])\n",
    "                    for nombre,dato in info.items()]\n",
    "    print(max(masInflu, key=lambda x: x[1]))\n",
    "\n",
    "def promedioGolesGeneral(info):\n",
    "    goles=0\n",
    "    for clave in info:\n",
    "        goles+=info[clave][0]\n",
    "    print(f\"promedio de goles de equipo durante la temporada fue de {goles/25}\")\n",
    "\n",
    "def promedioGolesGoleador(goleador):\n",
    "    clave=next(iter(goleador.keys()))\n",
    "    print(f\"promedio de goles del goleador {clave} durante la termporada fue de {goleador[clave]/25}\")\n",
    "    \n",
    "\n",
    "names = \"\"\" Agustin, Yanina, Andrés, Ariadna, Bautista, CAROLINA,\n",
    "CESAR, David, Diego, Dolores, DYLAN, ELIANA, Emanuel, Fabián, Noelia,\n",
    "Francsica', FEDERICO, Fernanda, GONZALO, Nancy \"\"\"\n",
    "goals = [0, 10, 4, 0, 5, 14, 0, 0, 7, 2, 1, 1, 1, 5, 6, 1, 1, 2, 0,\n",
    "11]\n",
    "goals_avoided = [0, 2, 0, 0, 5, 2, 0, 0, 1, 2, 0, 5, 5, 0, 1, 0, 2,\n",
    "3, 0, 0]\n",
    "assists = [0, 5, 1, 0, 5, 2, 0, 0, 1, 2, 1, 5, 5, 0, 1, 0, 2, 3, 1,\n",
    "0]\n",
    "\n",
    "#1\n",
    "info=generarEstructura()\n",
    "print(info)\n",
    "#2\n",
    "goleador=goleadorEs(info)\n",
    "#3\n",
    "masInfluyente(info)\n",
    "#4\n",
    "promedioGolesGeneral(info)\n",
    "#5\n",
    "promedioGolesGoleador(goleador)"
   ]
  }
 ],
 "metadata": {
  "kernelspec": {
   "display_name": "Python 3",
   "language": "python",
   "name": "python3"
  },
  "language_info": {
   "codemirror_mode": {
    "name": "ipython",
    "version": 3
   },
   "file_extension": ".py",
   "mimetype": "text/x-python",
   "name": "python",
   "nbconvert_exporter": "python",
   "pygments_lexer": "ipython3",
   "version": "3.11.1"
  }
 },
 "nbformat": 4,
 "nbformat_minor": 2
}
