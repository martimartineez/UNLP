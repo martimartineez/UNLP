{
 "cells": [
  {
   "cell_type": "markdown",
   "metadata": {},
   "source": [
    "Ejecutar para tener los archivos cvs actualizados con lo solicitado "
   ]
  },
  {
   "cell_type": "code",
   "execution_count": null,
   "metadata": {},
   "outputs": [],
   "source": [
    "from modulos import filtrarElevación,filtrarConectividad,FiltarTamañoLatitudLongitud,filtrarCens2022\n",
    "\n",
    "filtrarElevación.upDateFile()\n",
    "filtrarConectividad.upDateFile()\n",
    "FiltarTamañoLatitudLongitud.todo()\n",
    "filtrarCens2022.upDate()\n"
   ]
  },
  {
   "cell_type": "markdown",
   "metadata": {},
   "source": [
    "Ejecutar para ver el menu de las diferentes con sultas que se pueden realizar"
   ]
  },
  {
   "cell_type": "code",
   "execution_count": null,
   "metadata": {},
   "outputs": [],
   "source": [
    "import menu as menu\n",
    "menu.menu()"
   ]
  }
 ],
 "metadata": {
  "kernelspec": {
   "display_name": "Python 3",
   "language": "python",
   "name": "python3"
  },
  "language_info": {
   "codemirror_mode": {
    "name": "ipython",
    "version": 3
   },
   "file_extension": ".py",
   "mimetype": "text/x-python",
   "name": "python",
   "nbconvert_exporter": "python",
   "pygments_lexer": "ipython3",
   "version": "3.11.7"
  }
 },
 "nbformat": 4,
 "nbformat_minor": 2
}
